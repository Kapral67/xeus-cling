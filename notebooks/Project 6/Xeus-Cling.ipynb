{
 "cells": [
  {
   "cell_type": "markdown",
   "metadata": {},
   "source": [
    "### Demonstrate xeus-cling include syntax"
   ]
  },
  {
   "cell_type": "code",
   "execution_count": 1,
   "metadata": {
    "jupyter": {
     "source_hidden": true
    }
   },
   "outputs": [],
   "source": [
    "#include <iostream>\n",
    "#include <stdlib.h>\n",
    "#include <fstream>\n",
    "#include <cstring>\n",
    "#include <cctype>\n",
    "#include <string>\n",
    "using namespace std;"
   ]
  },
  {
   "cell_type": "code",
   "execution_count": 2,
   "metadata": {},
   "outputs": [],
   "source": [
    "#pragma cling add_include_path(\"./include\")\n",
    "#pragma cling load(\"include/cust.h\")\n",
    "#pragma cling load(\"include/pqueue.h\")"
   ]
  },
  {
   "cell_type": "code",
   "execution_count": 3,
   "metadata": {
    "jupyter": {
     "source_hidden": true
    }
   },
   "outputs": [],
   "source": [
    "struct Checker{\n",
    "    Checker(int m, int d, int n, Cust* c, bool r, bool u){\n",
    "        m_money = m;\n",
    "        m_done_time = d;\n",
    "        m_num = n;\n",
    "        m_curr_cust = c;\n",
    "        m_been_robbed = r;\n",
    "        m_unused = u;\n",
    "    }\n",
    "    Checker(void){\n",
    "        m_money = 250;\n",
    "        m_done_time = 0;\n",
    "        m_num = -1;\n",
    "        m_curr_cust = nullptr;\n",
    "        m_been_robbed = false;\n",
    "        m_unused = true;\n",
    "    }\n",
    "    int getMoney(){return m_money;}\n",
    "    void setMoney(int m){m_money = m;}\n",
    "    int getNum(){return m_num;}\n",
    "    void setNum(int n){m_num = n;}\n",
    "    int getDone(){return m_done_time;}\n",
    "    void setDone(int d){m_done_time = d;}\n",
    "    Cust* getCust(){return m_curr_cust;}\n",
    "    void setCust(Cust* c){m_curr_cust = c;}\n",
    "    bool getRob(){return m_been_robbed;}\n",
    "    void setRob(bool r){m_been_robbed = r;}\n",
    "    bool getUsed(){return m_unused;}\n",
    "    void set(bool u){m_unused = u;}\n",
    "    void operator = (const Checker& b){\n",
    "        m_money = b.m_money;\n",
    "        m_done_time = b.m_done_time;\n",
    "        m_num = b.m_num;\n",
    "        m_curr_cust = b.m_curr_cust;\n",
    "        m_been_robbed = b.m_been_robbed;\n",
    "        m_unused = b.m_unused;\n",
    "    }\n",
    "    void reconstruct(Checker &checker){\n",
    "        Checker new_checker;\n",
    "        checker = new_checker;\n",
    "    }\n",
    "    void reconstruct(Checker &checker, int m, int d, int n, Cust* c, bool b, bool u){\n",
    "        Checker new_checker(m,d,n,c,b,u);\n",
    "        checker = new_checker;\n",
    "    }\n",
    "    private :\n",
    "        int m_money;\n",
    "        int m_done_time;\n",
    "        int m_num;\n",
    "        Cust *m_curr_cust;\n",
    "        bool m_been_robbed;\n",
    "        bool m_unused;\n",
    "};"
   ]
  },
  {
   "cell_type": "code",
   "execution_count": 4,
   "metadata": {
    "jupyter": {
     "source_hidden": true
    }
   },
   "outputs": [],
   "source": [
    "template <typename T>\n",
    "struct wrapped_array {\n",
    "    wrapped_array(T* first, T* last) : begin_ {first}, end_ {last} {}\n",
    "    wrapped_array(T* first, ptrdiff_t size)\n",
    "        : wrapped_array {first, first + size} {}\n",
    "\n",
    "    T*  begin() const noexcept { return begin_; }\n",
    "    T*  end() const noexcept { return end_; }\n",
    "\n",
    "    T* begin_;\n",
    "    T* end_;\n",
    "};\n",
    "template <typename T>\n",
    "wrapped_array<T> wrap_array(T* first, ptrdiff_t size) noexcept\n",
    "{ return {first, size}; }"
   ]
  },
  {
   "cell_type": "code",
   "execution_count": 5,
   "metadata": {
    "collapsed": true,
    "jupyter": {
     "outputs_hidden": true,
     "source_hidden": true
    }
   },
   "outputs": [
    {
     "name": "stdout",
     "output_type": "stream",
     "text": [
      "250\n",
      "0\n",
      "100\n",
      "200\n",
      "300\n",
      "400\n",
      "500\n",
      "600\n",
      "700\n",
      "800\n",
      "900\n"
     ]
    }
   ],
   "source": [
    "int n = 10;\n",
    "Checker *rray = (Checker*)calloc(n,sizeof(Checker));\n",
    "int dex = 0;\n",
    "Checker mach_port_t\n",
    "cout << j.getMoney() << endl;\n",
    "for(auto&& i : wrap_array(rray, n)){\n",
    "    i.reconstruct(i,dex*100,0,dex,nullptr,false,true);\n",
    "    cout << i.getMoney() << endl;\n",
    "    dex++;\n",
    "}\n",
    "free(rray);"
   ]
  },
  {
   "cell_type": "code",
   "execution_count": null,
   "metadata": {},
   "outputs": [],
   "source": []
  }
 ],
 "metadata": {
  "kernelspec": {
   "display_name": "C++17",
   "language": "C++17",
   "name": "xcpp17"
  },
  "language_info": {
   "codemirror_mode": "text/x-c++src",
   "file_extension": ".cpp",
   "mimetype": "text/x-c++src",
   "name": "c++",
   "version": "17"
  }
 },
 "nbformat": 4,
 "nbformat_minor": 4
}
