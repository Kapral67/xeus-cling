{
 "cells": [
  {
   "cell_type": "code",
   "execution_count": 1,
   "metadata": {},
   "outputs": [],
   "source": [
    "#include <iostream>\n",
    "#include <stdlib.h>\n",
    "#include <fstream>\n",
    "#include <cstring>\n",
    "#include <cctype>\n",
    "#include <string>\n",
    "using namespace std;\n",
    "const char *cmd[] = { \"sim\", \"5\", \"59\", \"tests/t01.in\", \"./P5_results.txt\" };"
   ]
  },
  {
   "cell_type": "code",
   "execution_count": 2,
   "metadata": {},
   "outputs": [],
   "source": [
    "#pragma cling add_include_path(\"~/OneDrive/Notebooks/CSCI 211/Projects/p5\")\n",
    "#pragma cling load(\"cust.h\")\n",
    "#pragma cling load(\"cust.cpp\")\n",
    "#pragma cling load(\"pqueue.h\")\n",
    "#pragma cling load(\"pqueue.cpp\")"
   ]
  },
  {
   "cell_type": "code",
   "execution_count": 3,
   "metadata": {},
   "outputs": [],
   "source": [
    "struct Checker{\n",
    "    int m_money;\n",
    "    int m_done_time;\n",
    "    int m_num;\n",
    "    Cust *m_curr_cust;\n",
    "    bool m_been_robbed;\n",
    "    bool m_unused;\n",
    "};"
   ]
  },
  {
   "cell_type": "code",
   "execution_count": 4,
   "metadata": {},
   "outputs": [],
   "source": [
    "//Array wrapper\n",
    "//Allows for dynamic arrays to be traversed by range-based\n",
    "//for loops\n",
    "template <typename T>\n",
    "struct wrapped_array {\n",
    "    wrapped_array(T* first, T* last) : begin_ {first}, end_ {last} {}\n",
    "    wrapped_array(T* first, ptrdiff_t size)\n",
    "        : wrapped_array {first, first + size} {}\n",
    "\n",
    "    T*  begin() const noexcept { return begin_; }\n",
    "    T*  end() const noexcept { return end_; }\n",
    "\n",
    "    T* begin_;\n",
    "    T* end_;\n",
    "};\n",
    "template <typename T>\n",
    "//wrapped_array is the same type as the array it contains\n",
    "//returns pointer to first element and size of array\n",
    "wrapped_array<T> wrap_array(T* first, ptrdiff_t size) noexcept\n",
    "{ return {first, size}; }"
   ]
  },
  {
   "cell_type": "code",
   "execution_count": 5,
   "metadata": {},
   "outputs": [],
   "source": [
    "//loads appropriate Pqueues; called by run_simulation()\n",
    "void load_queues(Pqueue &arrival_queue, Pqueue &shopping_queue, Pqueue &checkout_queue, int &clock, ostream &os){\n",
    "    //load shopping queue; dequeue arrival queue\n",
    "    while(arrival_queue.first_priority() == clock){\n",
    "        Cust *cust = arrival_queue.dequeue();\n",
    "        cust->print_entered(os, clock);\n",
    "        shopping_queue.enqueue(cust, (cust->get_priority() + (cust->get_items()*2)));\n",
    "    }\n",
    "    //dequeue shopping queue and load checkout queue\n",
    "    while(shopping_queue.first_priority() == clock){\n",
    "        Cust *cust = shopping_queue.dequeue();\n",
    "        cust->print_done_shopping(os, clock);\n",
    "        checkout_queue.enqueue(cust, 0);\n",
    "    }\n",
    "}"
   ]
  },
  {
   "cell_type": "code",
   "execution_count": 6,
   "metadata": {},
   "outputs": [],
   "source": [
    "//performs appropriate actions upon a \"robber is checking out\" condition; called by done_checkout_handler()\n",
    "void robber_checkout_helper(Checker &current, const int &break_duration, ostream &os, int &clock, int &num_customers){\n",
    "    int cash = current.m_money;\n",
    "    current.m_money = 0;\n",
    "    current.m_been_robbed = true;\n",
    "    //update done time after robbery for cashier\n",
    "    current.m_done_time = clock + break_duration;\n",
    "    current.m_curr_cust->print_done_checkout(os, clock, current.m_num, cash);\n",
    "    Cust *ptr = current.m_curr_cust;\n",
    "    current.m_curr_cust = nullptr;\n",
    "    //delete customer after done checkout\n",
    "    delete ptr;\n",
    "    //update total number of customers\n",
    "    num_customers--;\n",
    "}"
   ]
  },
  {
   "cell_type": "code",
   "execution_count": 7,
   "metadata": {},
   "outputs": [],
   "source": [
    "//same as robber_checkout_helper() except for \"shopper is checking out\"; called by done_checkout_handler()\n",
    "void shopper_checkout_helper(Checker &current, ostream &os, int &clock, int &num_customers){\n",
    "    //all items are $3\n",
    "    int cash = (current.m_curr_cust->get_items())*3;\n",
    "    //update cashier cash after customer buys items\n",
    "    current.m_money += cash;\n",
    "    current.m_curr_cust->print_done_checkout(os, clock, current.m_num, cash);\n",
    "    Cust *ptr = current.m_curr_cust;\n",
    "    current.m_curr_cust = nullptr;\n",
    "    delete ptr;\n",
    "    num_customers--;\n",
    "}"
   ]
  },
  {
   "cell_type": "code",
   "execution_count": 8,
   "metadata": {},
   "outputs": [],
   "source": [
    "//calls helper functions depending if shopper or robber is at checkout and prints respective messages; called by run_simulation()\n",
    "void done_checkout_handler(const int &num_checkers, Checker* &checker_array, int &clock, const int &break_duration, int &num_customers, ostream &os){\n",
    "    for(auto&& index : wrap_array(checker_array, num_checkers)){\n",
    "        if(index.m_done_time == clock){\n",
    "            //decides if robber is at checkout or shopper is at checkout and calls respective functions\n",
    "            if(index.m_curr_cust != nullptr && index.m_curr_cust->is_robber()){\n",
    "                robber_checkout_helper(index, break_duration, os, clock, num_customers);\n",
    "            }else if(index.m_curr_cust != nullptr){\n",
    "                shopper_checkout_helper(index, os, clock, num_customers);\n",
    "            }\n",
    "        }\n",
    "    }\n",
    "}"
   ]
  },
  {
   "cell_type": "code",
   "execution_count": 9,
   "metadata": {},
   "outputs": [],
   "source": [
    "//updates Checker clock member variable and prints started-checkout message; called by run_simulation()\n",
    "void start_checkout_handler(const int &num_checkers, Checker* &checker_array, Pqueue &checkout_queue, int &clock, ostream &os){\n",
    "    for(auto&& index : wrap_array(checker_array, num_checkers)){\n",
    "        if(index.m_curr_cust == nullptr && !checkout_queue.empty() && index.m_done_time <= clock){\n",
    "            Cust *cust = checkout_queue.dequeue();\n",
    "            index.m_curr_cust = cust;\n",
    "            index.m_unused = false;\n",
    "            if(cust->is_robber()){\n",
    "                //robberies take 7 clock ticks no matter the amount of items\n",
    "                index.m_done_time = clock + 7;\n",
    "            }else{\n",
    "                //purchasing time is dependent on number of items\n",
    "                index.m_done_time = clock + cust->get_items();\n",
    "            }\n",
    "            cust->print_started_checkout(os, clock, index.m_num);\n",
    "        }\n",
    "    }\n",
    "}"
   ]
  },
  {
   "cell_type": "code",
   "execution_count": 10,
   "metadata": {},
   "outputs": [],
   "source": [
    "void run_simulation(Pqueue &arrival_queue, const int num_checkers, const int break_duration, ostream &os){\n",
    "    Pqueue shopping_queue, checkout_queue;\n",
    "    int clock, num_customers = arrival_queue.length();\n",
    "    //create an array of Checker structs\n",
    "    Checker *checker_array = (Checker*) calloc(num_checkers, sizeof(Checker));\n",
    "    for(int index = 0; index < num_checkers; index++){\n",
    "        checker_array[index] = { 250, 0, index, nullptr, false, true };\n",
    "    }\n",
    "    os<<\"*STORE OPEN*\"<<endl<<endl;\n",
    "    for(clock = 1; num_customers > 0; clock++){\n",
    "        load_queues(arrival_queue, shopping_queue, checkout_queue, clock, os);\n",
    "        done_checkout_handler(num_checkers, checker_array, clock, break_duration, num_customers, os);\n",
    "        start_checkout_handler(num_checkers, checker_array, checkout_queue, clock, os);\n",
    "    }\n",
    "    os<<endl<<\"*STORE CLOSED*\"<<endl<<endl;\n",
    "    for(auto&& index : wrap_array(checker_array, num_checkers)){\n",
    "        if(index.m_been_robbed){\n",
    "            os<<\"Register <\"<<(index.m_num+1)<<\"> = $\"<<index.m_money<<endl<<\"\\tThis register was robbed during sim!\"<<endl<<endl;\n",
    "        }else if(index.m_unused){\n",
    "            os<<\"Register <\"<<(index.m_num+1)<<\"> = $\"<<index.m_money<<endl<<\"\\tThis register was never used during sim.\"<<endl<<endl;\n",
    "        }else{\n",
    "            os<<\"Register <\"<<(index.m_num+1)<<\"> = $\"<<index.m_money<<endl<<endl;\n",
    "        }\n",
    "    }\n",
    "    os<<\"End Time = \"<<clock<<\".\"<<endl<<endl;\n",
    "    free(checker_array);\n",
    "}"
   ]
  },
  {
   "cell_type": "code",
   "execution_count": 11,
   "metadata": {},
   "outputs": [],
   "source": [
    "// Return true if str is a number, false otherwise.\n",
    "bool legal_int_cmd(const char *str){\n",
    "    bool result = false;\n",
    "    // Check for null pointer.\n",
    "    if(str != NULL && strlen(str) > 0){\n",
    "        int i, len = strlen(str);\n",
    "        // Single character case.\n",
    "        if(len == 1){\n",
    "            result = isdigit(str[0]);\n",
    "        }else{\n",
    "            // Check that every character is a digit.\n",
    "            try{\n",
    "                for(i = 0; i < len; i++){\n",
    "                    if(!isdigit(str[i])){\n",
    "                        throw false;\n",
    "                    }\n",
    "                }\n",
    "                result = true;\n",
    "            }catch(bool error){\n",
    "                result = error;\n",
    "            }catch(...){\n",
    "                throw;\n",
    "            }\n",
    "        }\n",
    "    }\n",
    "    return result;\n",
    "}"
   ]
  },
  {
   "cell_type": "code",
   "execution_count": 12,
   "metadata": {},
   "outputs": [],
   "source": [
    "//Check for errors in commandline arguments\n",
    "//Error checking ordered as per instructions request \n",
    "void read_commands(int argc, const char *argv[], ifstream &ifile, ofstream &ofile, string &error){\n",
    "    if(argc != 5){\n",
    "        throw \"Error: invalid number of command line arguments.\";\n",
    "    }\n",
    "    if(!ifile.is_open()){\n",
    "        error = \"Error: could not open input file <\";\n",
    "        error += argv[3];\n",
    "        error += \">.\";\n",
    "        throw error.c_str();\n",
    "    }\n",
    "    if(!ofile.is_open()){\n",
    "        error = \"Error: could not open output file <\";\n",
    "        error += argv[4];\n",
    "        error += \">.\";\n",
    "        throw error.c_str();\n",
    "    }\n",
    "    if(!(legal_int_cmd(*(argv + 1))) || atoi(argv[1]) < 1){\n",
    "        throw \"Error: invalid number of checkers specified.\";\n",
    "    }\n",
    "    if(!(legal_int_cmd(*(argv + 2))) || atoi(argv[2]) < 0){\n",
    "        throw \"Error: invalid checker break duration specified.\";\n",
    "    }\n",
    "}"
   ]
  },
  {
   "cell_type": "code",
   "execution_count": 13,
   "metadata": {},
   "outputs": [],
   "source": [
    "void read_input(Pqueue &arrival_queue, ifstream &ifile){\n",
    "    string name, type;\n",
    "    int time, items;\n",
    "    while(!ifile.eof()){\n",
    "        ifile>>ws>>name>>type>>time>>items>>ws;\n",
    "        arrival_queue.enqueue(new Cust(name, (type == \"robber\" ? true : false), time, items), time);\n",
    "    }\n",
    "}"
   ]
  },
  {
   "cell_type": "code",
   "execution_count": 14,
   "metadata": {},
   "outputs": [],
   "source": [
    "void runner(const char* argv[]){\n",
    "    int result = 0;\n",
    "    int argc = 5;\n",
    "    string err;\n",
    "    //const char *argv[] = { \"sim\", \"3\", \"0\", \"tests/t01.in\", \"./P5_results.txt\" };\n",
    "    try{        \n",
    "        Pqueue arrival_queue;\n",
    "        ifstream ifile(argv[3], ios::in);\n",
    "        ofstream ofile(argv[4], ios::out);\n",
    "        //call function to error check cmdline arguments\n",
    "        read_commands(argc, argv, ifile, ofile, err);\n",
    "        \n",
    "        //read input file until EOF\n",
    "        read_input(arrival_queue, ifile);\n",
    "        \n",
    "        //pass arrival queue and start simulation\n",
    "        run_simulation(arrival_queue, atoi(argv[1]), atoi(argv[2]), ofile);\n",
    "        ifile.close();\n",
    "        ofile.close();\n",
    "    }catch(const char* error){\n",
    "        cerr << error << endl;\n",
    "        result = 1;\n",
    "    }\n",
    "    if(result==0)\n",
    "        cout << \"Process Complete!\" << endl;\n",
    "}"
   ]
  },
  {
   "cell_type": "markdown",
   "metadata": {},
   "source": [
    "#### main()"
   ]
  },
  {
   "cell_type": "code",
   "execution_count": 15,
   "metadata": {},
   "outputs": [
    {
     "name": "stdout",
     "output_type": "stream",
     "text": [
      "Process Complete!\n"
     ]
    }
   ],
   "source": [
    "runner(cmd);"
   ]
  },
  {
   "cell_type": "markdown",
   "metadata": {},
   "source": [
    "# Statistics"
   ]
  },
  {
   "cell_type": "code",
   "execution_count": 15,
   "metadata": {},
   "outputs": [
    {
     "name": "stdout",
     "output_type": "stream",
     "text": [
      "924.183 us +- 79.7678 us per loop (mean +- std. dev. of 100 runs 1 loop each)\n"
     ]
    }
   ],
   "source": [
    "%timeit -n 1 -r 100 -p 6 runner(cmd); //t01.in with 1 register"
   ]
  },
  {
   "cell_type": "code",
   "execution_count": 15,
   "metadata": {},
   "outputs": [
    {
     "name": "stdout",
     "output_type": "stream",
     "text": [
      "1.06966 ms +- 145.161 us per loop (mean +- std. dev. of 100 runs 1 loop each)\n"
     ]
    }
   ],
   "source": [
    "%timeit -n 1 -r 100 -p 6 runner(cmd); //t01.in with 5 registers"
   ]
  },
  {
   "cell_type": "code",
   "execution_count": 15,
   "metadata": {},
   "outputs": [
    {
     "name": "stdout",
     "output_type": "stream",
     "text": [
      "3.22742 ms +- 180.859 us per loop (mean +- std. dev. of 100 runs 1 loop each)\n"
     ]
    }
   ],
   "source": [
    "%timeit -n 1 -r 100 -p 6 runner(cmd); //t14.in with ~10 registers"
   ]
  },
  {
   "cell_type": "code",
   "execution_count": 15,
   "metadata": {},
   "outputs": [
    {
     "name": "stdout",
     "output_type": "stream",
     "text": [
      "401.068 ms +- 5.51678 ms per loop (mean +- std. dev. of 100 runs 1 loop each)\n"
     ]
    }
   ],
   "source": [
    "%timeit -n 1 -r 100 -p 6 runner(cmd); //t15.in with 148 registers and 10000 break time"
   ]
  },
  {
   "cell_type": "code",
   "execution_count": 15,
   "metadata": {},
   "outputs": [
    {
     "name": "stdout",
     "output_type": "stream",
     "text": [
      "401.449 ms +- 6.36622 ms per loop (mean +- std. dev. of 100 runs 1 loop each)\n"
     ]
    }
   ],
   "source": [
    "%timeit -n 1 -r 100 -p 6 runner(cmd); //t15.in with 69 registers"
   ]
  },
  {
   "cell_type": "code",
   "execution_count": 15,
   "metadata": {},
   "outputs": [
    {
     "name": "stdout",
     "output_type": "stream",
     "text": [
      "409.98 ms +- 4.22518 ms per loop (mean +- std. dev. of 100 runs 1 loop each)\n"
     ]
    }
   ],
   "source": [
    "%timeit -n 1 -r 100 -p 6 runner(cmd); //t15.in with 148 registers and 1000 break time"
   ]
  },
  {
   "cell_type": "code",
   "execution_count": 15,
   "metadata": {},
   "outputs": [
    {
     "name": "stdout",
     "output_type": "stream",
     "text": [
      "410.578 ms +- 5.21259 ms per loop (mean +- std. dev. of 100 runs 1 loop each)\n"
     ]
    }
   ],
   "source": [
    "%timeit -n 1 -r 100 -p 6 runner(cmd); //t15.in with 420 registers and 1000 break time"
   ]
  },
  {
   "cell_type": "code",
   "execution_count": 15,
   "metadata": {},
   "outputs": [
    {
     "name": "stdout",
     "output_type": "stream",
     "text": [
      "427.444 ms +- 5.09663 ms per loop (mean +- std. dev. of 100 runs 1 loop each)\n"
     ]
    }
   ],
   "source": [
    "%timeit -n 1 -r 100 -p 6 runner(cmd); //t15.in with 100 registers and 1000 break time"
   ]
  },
  {
   "cell_type": "code",
   "execution_count": 15,
   "metadata": {},
   "outputs": [
    {
     "name": "stdout",
     "output_type": "stream",
     "text": [
      "498.744 ms +- 4.76103 ms per loop (mean +- std. dev. of 100 runs 1 loop each)\n"
     ]
    }
   ],
   "source": [
    "%timeit -n 1 -r 100 -p 6 runner(cmd); //t15.in with 69 registers and 1000 break time"
   ]
  },
  {
   "cell_type": "code",
   "execution_count": 15,
   "metadata": {},
   "outputs": [
    {
     "name": "stdout",
     "output_type": "stream",
     "text": [
      "512.517 ms +- 9.0743 ms per loop (mean +- std. dev. of 100 runs 1 loop each)\n"
     ]
    }
   ],
   "source": [
    "%timeit -n 1 -r 100 -p 6 runner(cmd); //t15.in with 69 registers and 10000 break time"
   ]
  },
  {
   "cell_type": "code",
   "execution_count": 15,
   "metadata": {},
   "outputs": [
    {
     "name": "stdout",
     "output_type": "stream",
     "text": [
      "676.896 ms +- 6.11763 ms per loop (mean +- std. dev. of 100 runs 1 loop each)\n"
     ]
    }
   ],
   "source": [
    "%timeit -n 1 -r 100 -p 6 runner(cmd); //t15.in with 35 registers and 10000 break time"
   ]
  },
  {
   "cell_type": "markdown",
   "metadata": {},
   "source": [
    "# OUT"
   ]
  },
  {
   "cell_type": "code",
   "execution_count": 16,
   "metadata": {},
   "outputs": [
    {
     "name": "stdout",
     "output_type": "stream",
     "text": [
      "*STORE OPEN*\n",
      "\n",
      "2: Lisa entered store\n",
      "3: Homer entered store\n",
      "5: Bart entered store\n",
      "21: Homer done shopping\n",
      "21: Homer started checkout with checker 0\n",
      "26: Lisa done shopping\n",
      "26: Lisa started checkout with checker 1\n",
      "27: Maggie entered store\n",
      "29: Maggie done shopping\n",
      "29: Maggie started checkout with checker 2\n",
      "30: Homer paid $27 for 9 items to checker 0\n",
      "36: Maggie stole $250 and 1 item from checker 2\n",
      "38: Lisa paid $36 for 12 items to checker 1\n",
      "51: Bart done shopping\n",
      "51: Bart started checkout with checker 0\n",
      "74: Bart paid $69 for 23 items to checker 0\n",
      "\n",
      "*STORE CLOSED*\n",
      "\n",
      "Register <1> = $346\n",
      "\n",
      "Register <2> = $286\n",
      "\n",
      "Register <3> = $0\n",
      "\tThis register was robbed during sim!\n",
      "\n",
      "Register <4> = $250\n",
      "\tThis register was never used during sim.\n",
      "\n",
      "Register <5> = $250\n",
      "\tThis register was never used during sim.\n",
      "\n",
      "End Time = 75.\n",
      "\n"
     ]
    }
   ],
   "source": [
    "ifstream output(\"./P5_results.txt\");\n",
    "if(output.is_open())\n",
    "    cout << output.rdbuf();"
   ]
  },
  {
   "cell_type": "markdown",
   "metadata": {},
   "source": [
    "# Test Zone"
   ]
  },
  {
   "cell_type": "markdown",
   "metadata": {},
   "source": [
    "# Archive"
   ]
  },
  {
   "cell_type": "code",
   "execution_count": null,
   "metadata": {},
   "outputs": [],
   "source": [
    "void done_checkout_handler(const int &num_checkers, Checker* &checker_array, int &clock, const int &break_duration, int &num_customers, ostream &os){\n",
    "    for(int index = 0; index < num_checkers; index++){\n",
    "        if(checker_array[index].m_done_time == clock){\n",
    "            if(checker_array[index].m_curr_cust != nullptr && checker_array[index].m_curr_cust->is_robber()){\n",
    "                robber_checkout_helper(checker_array, index, break_duration, os, clock, num_customers);\n",
    "            }else if(checker_array[index].m_curr_cust != nullptr){\n",
    "                shopper_checkout_helper(checker_array, index, os, clock, num_customers);\n",
    "            }\n",
    "        }\n",
    "    }\n",
    "}"
   ]
  },
  {
   "cell_type": "code",
   "execution_count": null,
   "metadata": {},
   "outputs": [],
   "source": [
    "void start_checkout_handler(const int &num_checkers, Checker* &checker_array, Pqueue &checkout_queue, int &clock, ostream &os){\n",
    "    for(int index = 0; index < num_checkers; index++){\n",
    "        if(checker_array[index].m_curr_cust == nullptr && !checkout_queue.empty() && checker_array[index].m_done_time <= clock){\n",
    "            Cust *cust = checkout_queue.dequeue();\n",
    "            checker_array[index].m_curr_cust = cust;\n",
    "            checker_array[index].m_unused = false;\n",
    "            if(cust->is_robber()){\n",
    "                checker_array[index].m_done_time = clock + 7;\n",
    "            }else{\n",
    "                checker_array[index].m_done_time = clock + cust->get_items();\n",
    "            }\n",
    "            cust->print_started_checkout(os, clock, index);\n",
    "        }\n",
    "    }\n",
    "}"
   ]
  },
  {
   "cell_type": "code",
   "execution_count": null,
   "metadata": {},
   "outputs": [],
   "source": [
    "void run_simulation(Pqueue &arrival_queue, const int num_checkers, const int break_duration, ostream &os){\n",
    "    Pqueue shopping_queue, checkout_queue;\n",
    "    int clock, num_customers = arrival_queue.length();\n",
    "    //create an array of Checker structs\n",
    "    Checker *checker_array = (Checker*) calloc(num_checkers, sizeof(Checker));\n",
    "    for(int index = 0; index < num_checkers; index++){\n",
    "        checker_array[index] = { 250, 0, index, nullptr, false, true };\n",
    "    }\n",
    "    for(clock = 1; num_customers > 0; clock++){\n",
    "        load_shopping_queue(arrival_queue, shopping_queue, clock, os);\n",
    "        load_checkout_queue(shopping_queue, checkout_queue, clock, os);\n",
    "        done_checkout_handler(num_checkers, checker_array, clock, break_duration, num_customers, os);\n",
    "        start_checkout_handler(num_checkers, checker_array, checkout_queue, clock, os);\n",
    "    }\n",
    "    for(int index = 0; index < num_checkers; index++){\n",
    "        if(checker_array[index].m_been_robbed){\n",
    "            os<<\"registers[\"<<index<<\"] = $\"<<checker_array[index].m_money<<\" was robbed during sim!\"<<endl;\n",
    "        }else if(checker_array[index].m_unused){\n",
    "            os<<\"registers[\"<<index<<\"] = $\"<<checker_array[index].m_money<<\" was never used during sim.\"<<endl;\n",
    "        }else{\n",
    "            os<<\"registers[\"<<index<<\"] = $\"<<checker_array[index].m_money<<endl;\n",
    "        }\n",
    "    }\n",
    "    os<<\"time = \"<<clock<<endl;\n",
    "    free(checker_array);\n",
    "}"
   ]
  }
 ],
 "metadata": {
  "kernelspec": {
   "display_name": "C++11",
   "language": "C++11",
   "name": "xcpp11"
  },
  "language_info": {
   "codemirror_mode": "text/x-c++src",
   "file_extension": ".cpp",
   "mimetype": "text/x-c++src",
   "name": "c++",
   "version": "11"
  }
 },
 "nbformat": 4,
 "nbformat_minor": 4
}
